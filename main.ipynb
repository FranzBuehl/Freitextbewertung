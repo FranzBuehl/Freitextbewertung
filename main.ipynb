{
 "cells": [
  {
   "cell_type": "markdown",
   "id": "d083c37c-15dd-451c-b74e-a7dcbfd5c24f",
   "metadata": {},
   "source": [
    "Initiales setup für GPU Verwendung"
   ]
  },
  {
   "cell_type": "code",
   "execution_count": null,
   "id": "53a322a8-6830-40b5-a169-4a5d83d7a95d",
   "metadata": {},
   "outputs": [],
   "source": [
    "!wget https://developer.download.nvidia.com/compute/cuda/11.0.3/local_installers/cuda-repo-ubuntu2004-11-0-local_11.0.3-450.51.06-1_amd64.deb\n",
    "!dpkg -i cuda-repo-ubuntu2004-11-0-local_11.0.3-450.51.06-1_amd64.deb\n",
    "!apt-key add /var/cuda-repo-ubuntu2004-11-0-local/7fa2af80.pub\n",
    "!apt-get update\n",
    "!apt-get install cuda\n",
    "!pip install torch==1.11.0+cu113 torchvision==0.12.0+cu113 torchaudio==0.11.0+cu113 -f https://download.pytorch.org/whl/cu113/torch_stable.html"
   ]
  },
  {
   "cell_type": "markdown",
   "id": "d9676221-6d52-4f54-93d2-9107f11c936d",
   "metadata": {},
   "source": [
    "Installieren der Dependencies"
   ]
  },
  {
   "cell_type": "code",
   "execution_count": null,
   "id": "cb0b8cac-9904-4a49-9888-069e065e865a",
   "metadata": {},
   "outputs": [],
   "source": [
    "!pip install spacy==3.3.1 \n",
    "!pip install spacy-transformers\n",
    "!pip install -U spacy[transformers,cuda113]\n",
    "#for transformers v4.0.0+ and models that require SentencePiece (e.g., ALBERT, CamemBERT, XLNet, Marian, and T5)\n",
    "!pip install transformers[sentencepiece]\n",
    "!pip install spacy-sentence-bert"
   ]
  },
  {
   "cell_type": "code",
   "execution_count": null,
   "id": "2758e214-e164-479a-b67f-ca45b7b2725e",
   "metadata": {},
   "outputs": [],
   "source": [
    "!pip install shap"
   ]
  },
  {
   "cell_type": "markdown",
   "id": "5eebf369-9d28-43bc-b320-45b14b35e97d",
   "metadata": {},
   "source": [
    "Laden der Spacy Modelle"
   ]
  },
  {
   "cell_type": "code",
   "execution_count": null,
   "id": "a416d0e0-57ba-47f5-adc2-4cc8b4f822b9",
   "metadata": {},
   "outputs": [],
   "source": [
    "!python -m spacy download de_core_news_lg\n",
    "!python -m spacy download de_dep_news_trf"
   ]
  }
 ],
 "metadata": {
  "kernelspec": {
   "display_name": "Python 3 (ipykernel)",
   "language": "python",
   "name": "python3"
  },
  "language_info": {
   "codemirror_mode": {
    "name": "ipython",
    "version": 3
   },
   "file_extension": ".py",
   "mimetype": "text/x-python",
   "name": "python",
   "nbconvert_exporter": "python",
   "pygments_lexer": "ipython3",
   "version": "3.9.12"
  }
 },
 "nbformat": 4,
 "nbformat_minor": 5
}
